{
 "cells": [
  {
   "cell_type": "code",
   "execution_count": null,
   "id": "bc017bb6",
   "metadata": {},
   "outputs": [],
   "source": [
    "#client side\n",
    "import socket\n",
    "c=socket.socket(socket.AF_INET,socket.SOCK_STREAM)\n",
    "host=socket.gethostname()\n",
    "port=8999\n",
    "c.connect((host, port))\n",
    "print(\"connected...\")\n",
    "print (c.recv(1024).decode())\n",
    "\n",
    "c.close()"
   ]
  },
  {
   "cell_type": "code",
   "execution_count": null,
   "id": "f078a4e6",
   "metadata": {},
   "outputs": [
    {
     "name": "stdout",
     "output_type": "stream",
     "text": [
      "waiting for the connection\n"
     ]
    }
   ],
   "source": [
    "#server side or sender\n",
    "import socket\n",
    "server = socket.socket(socket.AF_INET,socket.SOCK_STREAM)\n",
    "server_address=('localhost',8898)\n",
    "server.bind(server_address)\n",
    "server.listen(1)\n",
    "print(\"waiting for the connection\")\n",
    "while True:\n",
    "    clt,client_address=server.accept()\n",
    "    name=clt.recv(1025).decode()\n",
    "    print(\"connection established\",client_address,name)\n",
    "    clt.send(bytes(\"welcome to the connection\",'utf-8'))\n",
    "    data=clt.recv(1000)\n",
    "    print(\"Data received\",data)\n",
    "    clt.close()"
   ]
  },
  {
   "cell_type": "code",
   "execution_count": null,
   "id": "723a636a",
   "metadata": {},
   "outputs": [],
   "source": [
    "#server side\n",
    "import socket\n",
    "s=socket.socket(socket.AF_INET,socket.SOCK_STREAM)\n",
    "host=socket.gethostname()\n",
    "port=8999\n",
    "s.bind((host,port))\n",
    "s.listen(5)\n",
    "print (\"socket is listening\")\n",
    "\n",
    "while True:\n",
    "    c,addr = s.accept()\n",
    "    print(\"Got address from\", addr)\n",
    "    c.send(\"........WELCOME.......\\nThank you for connecting\".encode())\n",
    "    c.close()\n",
    "\n",
    "\n"
   ]
  },
  {
   "cell_type": "code",
   "execution_count": null,
   "id": "1acda7b3",
   "metadata": {},
   "outputs": [],
   "source": [
    "#receiver or client side\n",
    "import socket\n",
    "clt=socket.socket(family=socket.AF_INET,type=socket.SOCK_STREAM)\n",
    "clt1=('localhost',8898)\n",
    "clt.connect(clt1)\n",
    "\n",
    "name = input(\"Enter your name\\n\")\n",
    "clt.send(bytes(name,'utf-8'))\n",
    "print(clt.recv(1025).decode())\n",
    "\n",
    "message =input(\"Enter message:\\n\")\n",
    "#print(\"send to server\",message)\n",
    "clt.send(bytes(str(message),'utf-8'))\n",
    "print(\"original message\",message)\n",
    "\n",
    "data=clt.recv(1000).decode()\n",
    "print (data)"
   ]
  }
 ],
 "metadata": {
  "kernelspec": {
   "display_name": "Python 3",
   "language": "python",
   "name": "python3"
  },
  "language_info": {
   "codemirror_mode": {
    "name": "ipython",
    "version": 3
   },
   "file_extension": ".py",
   "mimetype": "text/x-python",
   "name": "python",
   "nbconvert_exporter": "python",
   "pygments_lexer": "ipython3",
   "version": "3.8.8"
  }
 },
 "nbformat": 4,
 "nbformat_minor": 5
}
